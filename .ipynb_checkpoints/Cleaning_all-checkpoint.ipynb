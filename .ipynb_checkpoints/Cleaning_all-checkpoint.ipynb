{
 "cells": [
  {
   "cell_type": "code",
   "execution_count": 19,
   "id": "764ccb42-1b89-4968-8e10-e3d86e992fe2",
   "metadata": {},
   "outputs": [],
   "source": [
    "import pandas as pd\n",
    "from sklearn.preprocessing import MinMaxScaler\n",
    "from sklearn.preprocessing import LabelEncoder\n",
    "\n"
   ]
  },
  {
   "cell_type": "code",
   "execution_count": 28,
   "id": "1360089e-bfba-4ab8-abbe-968e43fe1c9a",
   "metadata": {},
   "outputs": [
    {
     "name": "stdout",
     "output_type": "stream",
     "text": [
      "Total Removed Rows: 10657\n",
      "NaN total values 1\n"
     ]
    }
   ],
   "source": [
    "sheet1_df = pd.read_excel('POS_DATA_BAPT_2023_updated (1).xlsx', sheet_name='POS Data')\n",
    "sheet2_df = pd.read_excel('POS_DATA_BAPT_2023_updated (1).xlsx', sheet_name = 'Hierachy Categories & Barcodes')\n",
    "\n",
    "# Find and count rows with 'Value_' <= 0\n",
    "removed_rows_value = sheet1_df[sheet1_df['Value_'] <= 0] # 10.654\n",
    "number_of_removed_values = removed_rows_value.shape[0]\n",
    "\n",
    "# Find and count rows with 'Quantity' <= 0\n",
    "removed_rows_quantity = sheet1_df[sheet1_df['Quantity'] <= 0] # 3\n",
    "number_of_removed_values += removed_rows_quantity.shape[0]\n",
    "\n",
    "# Print the total number of removed rows\n",
    "print(\"Total Removed Rows:\", number_of_removed_values)\n",
    "\n",
    "is_null = sheet1_df['LoyaltyCard_ID'].isna().sum()\n",
    "print(\"NaN total values\", is_null)\n",
    "\n",
    "# Filter the original DataFrame to keep only rows with positive 'Value' and 'Quantity'\n",
    "sheet1_df = sheet1_df[(sheet1_df['Value_'] > 0) & (sheet1_df['Quantity'] > 0)]\n",
    "#  Replace null Loyalty Cards with 0\n",
    "sheet1_df['LoyaltyCard_ID'] = sheet1_df['LoyaltyCard_ID'].fillna(0)\n",
    "\n",
    "# Transform Basket_ID's to integer (Same BasketID's have same integer value)\n",
    "sheet1_df['Basket_ID'] = sheet1_df.groupby('Basket_ID').ngroup()\n",
    "sheet1_df['Basket_ID'] = sheet1_df['Basket_ID'].astype(int)\n",
    "sheet1_df['LoyaltyCard_ID'] = sheet1_df['LoyaltyCard_ID'].astype(int)\n",
    "\n",
    "\n",
    "# show(sheet1_df, paging=False, layout={\"topEnd\": None, \"bottomStart\": None})\n",
    "#display(sheet1_df)\n",
    "\n",
    "sheet2_df['Category C'] = sheet2_df['Category C'].fillna('Unknown')\n",
    "\n",
    "# Select columns to normalize\n",
    "label_encoders = {}\n",
    "for col in ['Category A', 'Category B', 'Category C']:\n",
    "    le = LabelEncoder()\n",
    "    sheet2_df[col] = le.fit_transform(sheet2_df[col])\n",
    "    label_encoders[col] = le\n",
    "    \n",
    "scaler = MinMaxScaler()\n",
    "numerical_columns = ['Category A', 'Category B', 'Category C']\n",
    "scaled_data\n",
    "scaled_data = scaler.fit_transform(sheet2_df[numerical_columns])\n",
    "\n",
    "# Convert the scaled data back into a DataFrame\n",
    "processed_data = pd.DataFrame(scaled_data, columns=numerical_columns)\n",
    "processed_data['Barcode'] = sheet2_df['Barcode']\n",
    "\n",
    "\n",
    "with pd.ExcelWriter('reformed.xlsx', engine='xlsxwriter') as writer:\n",
    "    sheet1_df.to_excel(writer, sheet_name='POS Data', index=False)\n",
    "    processed_data.to_excel(writer,sheet_name='Hierachy Categories & Barcodes', index = False)"
   ]
  },
  {
   "cell_type": "code",
   "execution_count": null,
   "id": "4af98c72-228b-4f71-8344-880f162245c7",
   "metadata": {},
   "outputs": [],
   "source": []
  }
 ],
 "metadata": {
  "kernelspec": {
   "display_name": "Python 3 (ipykernel)",
   "language": "python",
   "name": "python3"
  },
  "language_info": {
   "codemirror_mode": {
    "name": "ipython",
    "version": 3
   },
   "file_extension": ".py",
   "mimetype": "text/x-python",
   "name": "python",
   "nbconvert_exporter": "python",
   "pygments_lexer": "ipython3",
   "version": "3.10.12"
  }
 },
 "nbformat": 4,
 "nbformat_minor": 5
}
