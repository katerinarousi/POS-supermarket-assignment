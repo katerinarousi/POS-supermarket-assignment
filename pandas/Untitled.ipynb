{
 "cells": [
  {
   "cell_type": "code",
   "execution_count": 1,
   "id": "5820d24b-dd46-41b5-867e-a09aeb6c5be8",
   "metadata": {},
   "outputs": [],
   "source": [
    "import pandas as pd\n",
    "import xlsxwriter\n",
    "\n",
    "# Replace 'your_file.csv' with your actual file path\n",
    "file_path = 'Cleaned_POS_DATA_BAPT_2023.csv'\n",
    "data = pd.read_csv(file_path)"
   ]
  },
  {
   "cell_type": "code",
   "execution_count": 2,
   "id": "d0d41967-f618-439b-a51b-8dc81e64ffe4",
   "metadata": {},
   "outputs": [
    {
     "name": "stdout",
     "output_type": "stream",
     "text": [
      "       Basket_ID  LoyaltyCard_ID  total_value\n",
      "0              0          117311        13.63\n",
      "1              1          117311        23.17\n",
      "2              2          117311         6.72\n",
      "3              3          117311         1.35\n",
      "4              4          117311         1.81\n",
      "...          ...             ...          ...\n",
      "61266      61265        29501639        11.54\n",
      "61267      61266        29501639        11.77\n",
      "61268      61267        29501646        36.82\n",
      "61269      61268        29522019         3.22\n",
      "61270      61269        29522019         4.89\n",
      "\n",
      "[61271 rows x 3 columns]\n"
     ]
    }
   ],
   "source": [
    "# Calculate the total value for each row\n",
    "data['total_value'] = data['Quantity'] * data['Value_']\n",
    "\n",
    "# Group by Basket_ID and LoyaltyCard_ID, and calculate the total value\n",
    "basket_totals = (\n",
    "    data.groupby(['Basket_ID', 'LoyaltyCard_ID'], as_index=False)['total_value']\n",
    "    .sum()\n",
    ")\n",
    "\n",
    "# Reset index to make sure Basket_ID is not an index\n",
    "basket_totals.reset_index(drop=True, inplace=True)\n",
    "\n",
    "# Optionally, set a new index (e.g., using a sequential index starting from 0)\n",
    "basket_totals.index = range(len(basket_totals))\n",
    "\n",
    "# Display the resulting DataFrame\n",
    "print(basket_totals)"
   ]
  },
  {
   "cell_type": "code",
   "execution_count": 3,
   "id": "2a7af2d1-3862-49c5-b68f-ed632ee02c4a",
   "metadata": {},
   "outputs": [
    {
     "name": "stdout",
     "output_type": "stream",
     "text": [
      "Requirement already satisfied: xlsxwriter in c:\\python312\\lib\\site-packages (3.2.0)\n"
     ]
    },
    {
     "name": "stderr",
     "output_type": "stream",
     "text": [
      "\n",
      "[notice] A new release of pip is available: 24.0 -> 24.3.1\n",
      "[notice] To update, run: python.exe -m pip install --upgrade pip\n"
     ]
    }
   ],
   "source": [
    "!pip install xlsxwriter\n"
   ]
  },
  {
   "cell_type": "code",
   "execution_count": 4,
   "id": "78a43117-dafa-4bf5-b8e5-1b6b6697fa5a",
   "metadata": {},
   "outputs": [],
   "source": [
    "'''# Calculate the total value for each row\n",
    "data['total_value'] = data['Quantity'] * data['Value_']\n",
    "\n",
    "# Group by Basket_ID and sum total_value\n",
    "basket_totals = data.groupby('Basket_ID', as_index=False)['total_value'].sum()\n",
    "\n",
    "# Create a dictionary with Basket_ID as the key and total_value_total as the value\n",
    "result_dict = basket_totals.rename(columns={'total_value': 'total_value_total'}) \\\n",
    "    .set_index('Basket_ID') \\\n",
    "    .to_dict()['total_value_total']\n",
    "\n",
    "# Display the resulting dictionary\n",
    "print(result_dict)\n",
    "\n",
    "results_df = pd.DataFrame(result_dict)\n",
    "with pd.ExcelWriter('with_values.xlsx', engine='xlsxwriter') as writer:\n",
    "    results_df.to_excel(writer, sheet_name='baskets with values', index=False)'''\n",
    "\n",
    "data['total_value'] = data['Quantity'] * data['Value_']\n",
    "\n",
    "# Group by Basket_ID and sum total_value\n",
    "basket_totals = data.groupby('Basket_ID', as_index=False)['total_value'].sum()\n",
    "\n",
    "# Create a DataFrame from the grouped data\n",
    "results_df = basket_totals.rename(columns={'total_value': 'total_value_total'})\n",
    "\n",
    "# Save the results to an Excel file\n",
    "with pd.ExcelWriter('with_values.xlsx', engine='xlsxwriter') as writer:\n",
    "    results_df.to_excel(writer, sheet_name='baskets with values', index=False)\n"
   ]
  },
  {
   "cell_type": "code",
   "execution_count": null,
   "id": "d91a0993-8467-4201-9f91-83f8d2fa539e",
   "metadata": {},
   "outputs": [],
   "source": []
  },
  {
   "cell_type": "code",
   "execution_count": null,
   "id": "f68f24d5-0d1f-4a49-9169-b5f5664a1ef5",
   "metadata": {},
   "outputs": [],
   "source": []
  }
 ],
 "metadata": {
  "kernelspec": {
   "display_name": "Python 3 (ipykernel)",
   "language": "python",
   "name": "python3"
  },
  "language_info": {
   "codemirror_mode": {
    "name": "ipython",
    "version": 3
   },
   "file_extension": ".py",
   "mimetype": "text/x-python",
   "name": "python",
   "nbconvert_exporter": "python",
   "pygments_lexer": "ipython3",
   "version": "3.12.4"
  }
 },
 "nbformat": 4,
 "nbformat_minor": 5
}
