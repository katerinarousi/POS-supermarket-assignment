{
 "cells": [
  {
   "cell_type": "code",
   "execution_count": 2,
   "id": "40131c29-2541-4d95-b871-3ecf406bc3d4",
   "metadata": {},
   "outputs": [
    {
     "name": "stdout",
     "output_type": "stream",
     "text": [
      "   Basket_ID                Date_       Barcode  Quantity  Value_  \\\n",
      "0      20412  2023-05-29 00:00:00  5.200120e+12       1.0    1.19   \n",
      "1      20412  2023-05-29 00:00:00  5.207066e+09       1.0    3.63   \n",
      "2      20412  2023-05-29 00:00:00  8.076810e+12       1.0    2.52   \n",
      "3      20412  2023-05-29 00:00:00  5.200120e+12       1.0    1.35   \n",
      "4      20413  2023-06-10 00:00:00  5.204420e+12       1.0    0.99   \n",
      "\n",
      "   LoyaltyCard_ID  \n",
      "0        28504821  \n",
      "1        28504821  \n",
      "2        28504821  \n",
      "3        28504821  \n",
      "4        28504821  \n"
     ]
    }
   ],
   "source": [
    "import pandas as pd\n",
    "\n",
    "# Load the data\n",
    "file_path = 'Cleaned_POS_DATA_BAPT_2023.csv'  # Path to your file\n",
    "data = pd.read_csv(file_path)\n",
    "\n",
    "# Display the first few rows to understand the structure\n",
    "print(data.head())"
   ]
  },
  {
   "cell_type": "code",
   "execution_count": 13,
   "id": "914e5dae-f71b-43d1-9eac-62b2f507d9c0",
   "metadata": {},
   "outputs": [
    {
     "name": "stdout",
     "output_type": "stream",
     "text": [
      "       Basket_ID  Total_Quantity  Total_Value_Per_Basket  Product_Variation\n",
      "0              0             5.0                   13.63                  5\n",
      "1              1             8.0                   23.17                  8\n",
      "2              2             2.0                    6.72                  2\n",
      "3              3             1.0                    1.35                  1\n",
      "4              4             2.0                    1.81                  2\n",
      "...          ...             ...                     ...                ...\n",
      "61265      61265             7.0                   11.54                  7\n",
      "61266      61266             6.0                   11.77                  3\n",
      "61267      61267             8.0                   36.82                  3\n",
      "61268      61268             2.0                    3.22                  2\n",
      "61269      61269             3.0                    4.89                  3\n",
      "\n",
      "[61270 rows x 4 columns]\n"
     ]
    }
   ],
   "source": [
    "required_columns = ['Basket_ID', 'Quantity', 'Value_', 'Barcode', 'LoyaltyCard_ID']\n",
    "for col in required_columns:\n",
    "    if col not in data.columns:\n",
    "        raise ValueError(f\"Column {col} is missing from the dataset!\")\n",
    "\n",
    "total_quantity = data.groupby('Basket_ID')['Quantity'].sum().reset_index()\n",
    "total_quantity.rename(columns={'Quantity': 'Total_Quantity'}, inplace=True)\n",
    "\n",
    "data['Total_Value'] = data['Quantity'] * data['Value_']\n",
    "total_value = data.groupby('Basket_ID')['Total_Value'].sum().reset_index()\n",
    "total_value.rename(columns={'Total_Value': 'Total_Value_Per_Basket'}, inplace=True)\n",
    "\n",
    "product_variation = data.groupby('Basket_ID')['Barcode'].nunique().reset_index()\n",
    "product_variation.rename(columns={'Barcode': 'Product_Variation'}, inplace=True)\n",
    "\n",
    "summary = total_quantity.merge(total_value, on='Basket_ID').merge(product_variation, on='Basket_ID')\n",
    "\n",
    "print(summary)\n"
   ]
  },
  {
   "cell_type": "code",
   "execution_count": 17,
   "id": "e399b508-b96d-4add-88c1-fdc024748618",
   "metadata": {},
   "outputs": [
    {
     "name": "stdout",
     "output_type": "stream",
     "text": [
      "        LoyaltyCard_ID  Customer_ID\n",
      "0             28504821          814\n",
      "23            28504989          857\n",
      "31            28505050          876\n",
      "35            28505084          884\n",
      "39            28505150          905\n",
      "...                ...          ...\n",
      "373784        28504240          797\n",
      "374267        28854105         1440\n",
      "374271        29011589         1727\n",
      "375431        28713882         1179\n",
      "376034               0            1\n",
      "\n",
      "[2408 rows x 2 columns]\n"
     ]
    }
   ],
   "source": [
    "# Step 1: Create a mapping of Loyalty Card ID to Customer ID\n",
    "data['Customer_ID'] = data['LoyaltyCard_ID'].astype('category').cat.codes + 1\n",
    "\n",
    "# Step 2: Verify the mapping\n",
    "loyalty_to_customer = data[['LoyaltyCard_ID', 'Customer_ID']].drop_duplicates()\n",
    "print(loyalty_to_customer)\n"
   ]
  },
  {
   "cell_type": "code",
   "execution_count": 18,
   "id": "8ab3e22d-84e2-4f41-a1f1-fde7b319632d",
   "metadata": {},
   "outputs": [
    {
     "name": "stdout",
     "output_type": "stream",
     "text": [
      "   Basket_ID  Total_Quantity  Total_Value_Per_Basket  Product_Variation  \\\n",
      "0          0             5.0                   13.63                  5   \n",
      "1          1             8.0                   23.17                  8   \n",
      "2          2             2.0                    6.72                  2   \n",
      "3          3             1.0                    1.35                  1   \n",
      "4          4             2.0                    1.81                  2   \n",
      "\n",
      "   Customer_ID  \n",
      "0            2  \n",
      "1            2  \n",
      "2            2  \n",
      "3            2  \n",
      "4            2  \n"
     ]
    }
   ],
   "source": [
    "# Step 1: Add Customer ID to the original dataset\n",
    "basket_with_customer = data[['Basket_ID', 'Customer_ID']].drop_duplicates()\n",
    "\n",
    "# Step 2: Merge Customer ID into the summary dataset\n",
    "summary_with_customers = summary.merge(basket_with_customer, on='Basket_ID')\n",
    "\n",
    "# Display the resulting DataFrame\n",
    "print(summary_with_customers.head())\n"
   ]
  },
  {
   "cell_type": "code",
   "execution_count": 21,
   "id": "6bc9ea73-ab77-448a-8b3a-248570f92465",
   "metadata": {},
   "outputs": [],
   "source": [
    "with pd.ExcelWriter('basket_summary_withcust.xlsx', engine='xlsxwriter') as writer:\n",
    "    summary_with_customers.to_excel(writer, sheet_name='baskets with values', index=False)"
   ]
  },
  {
   "cell_type": "code",
   "execution_count": null,
   "id": "c4c977bb-3ab3-462c-9cc8-d1a5b2c94304",
   "metadata": {},
   "outputs": [],
   "source": []
  }
 ],
 "metadata": {
  "kernelspec": {
   "display_name": "Python 3 (ipykernel)",
   "language": "python",
   "name": "python3"
  },
  "language_info": {
   "codemirror_mode": {
    "name": "ipython",
    "version": 3
   },
   "file_extension": ".py",
   "mimetype": "text/x-python",
   "name": "python",
   "nbconvert_exporter": "python",
   "pygments_lexer": "ipython3",
   "version": "3.10.12"
  }
 },
 "nbformat": 4,
 "nbformat_minor": 5
}
